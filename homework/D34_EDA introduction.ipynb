{
 "metadata": {
  "language_info": {
   "codemirror_mode": {
    "name": "ipython",
    "version": 3
   },
   "file_extension": ".py",
   "mimetype": "text/x-python",
   "name": "python",
   "nbconvert_exporter": "python",
   "pygments_lexer": "ipython3",
   "version": 3
  },
  "orig_nbformat": 2
 },
 "nbformat": 4,
 "nbformat_minor": 2,
 "cells": [
  {
   "source": [
    "Q1：哪一個問題不適合用資料科學解決？\n",
    "    挑選 Mr./Ms. Right\n",
    "    顧客下次會買哪些東西？\n",
    "    半導體的良率預測？\n",
    "    \n",
    "Q2：以你的角度來分析，為什麼這樣的問題，較不適合用資料來解決？"
   ],
   "cell_type": "markdown",
   "metadata": {}
  },
  {
   "cell_type": "code",
   "execution_count": null,
   "metadata": {},
   "outputs": [],
   "source": [
    "'''\n",
    "A1: 挑選 Mr./Ms. Right\n",
    "A2:\n",
    "1. 選擇伴侶的條件較為複雜且不固定，難以明確定義 Mr./Ms. Right\n",
    "2. 諸多挑選伴侶的因素難以量化\n",
    "3. 因適用範圍為自身，一般很難有足夠的樣本數去進行分析\n",
    "'''"
   ]
  }
 ]
}