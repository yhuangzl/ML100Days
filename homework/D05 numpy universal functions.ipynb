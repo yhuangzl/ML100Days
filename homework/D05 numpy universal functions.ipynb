{
 "metadata": {
  "language_info": {
   "codemirror_mode": {
    "name": "ipython",
    "version": 3
   },
   "file_extension": ".py",
   "mimetype": "text/x-python",
   "name": "python",
   "nbconvert_exporter": "python",
   "pygments_lexer": "ipython3",
   "version": "3.8.5-final"
  },
  "orig_nbformat": 2,
  "kernelspec": {
   "name": "python3",
   "display_name": "Python 3",
   "language": "python"
  }
 },
 "nbformat": 4,
 "nbformat_minor": 2,
 "cells": [
  {
   "cell_type": "code",
   "execution_count": 1,
   "metadata": {},
   "outputs": [],
   "source": [
    "import numpy as np"
   ]
  },
  {
   "cell_type": "code",
   "execution_count": 54,
   "metadata": {},
   "outputs": [],
   "source": [
    "english_score = np.array([55,89,76,65,48,70])\n",
    "math_score = np.array([60,85,60,68,np.nan,60])\n",
    "chinese_score = np.array([65,90,82,72,66,77])"
   ]
  },
  {
   "cell_type": "code",
   "execution_count": 55,
   "metadata": {},
   "outputs": [
    {
     "output_type": "stream",
     "name": "stdout",
     "text": [
      "english mean = 67.2\nenglish max = 89\nenglish min = 48\nenglish stdev = 13.4\nmath mean = 66.6\nmath max = 85.0\nmath min = 60.0\nmath stdev = 9.7\nchinese mean = 75.3\nchinese max = 90\nchinese min = 65\nchinese stdev = 8.8\n"
     ]
    }
   ],
   "source": [
    "#1. 請計算各科成績平均、最大值、最小值、標準差，其中數學缺一筆資料可忽略?\n",
    "dict1 = {'english': english_score, 'math': math_score, 'chinese': chinese_score}\n",
    "for i in dict1:\n",
    "    print(i, 'mean =', round(np.nanmean(dict1[i]), 1))\n",
    "    print(i, 'max =', round(np.nanmax(dict1[i]), 1))\n",
    "    print(i, 'min =', round(np.nanmin(dict1[i]), 1))\n",
    "    print(i, 'stdev =', round(np.nanstd(dict1[i]), 1))"
   ]
  },
  {
   "cell_type": "code",
   "execution_count": 56,
   "metadata": {},
   "outputs": [
    {
     "output_type": "stream",
     "name": "stdout",
     "text": [
      "math_mean = 64.7\nmath_max = 85.0\nmath_min = 55.0\nmath_stdev = 9.9\n"
     ]
    }
   ],
   "source": [
    "#2. 第五位同學補考數學後成績為55，請計算補考後數學成績平均、最大值、最小值、標準差?\n",
    "math_score[4] = 55\n",
    "print('math_mean =', round(np.mean(math_score), 1))\n",
    "print('math_max =', np.max(math_score))\n",
    "print('math_min =', np.min(math_score))\n",
    "print('math_stdev =', round(np.std(math_score), 1))"
   ]
  },
  {
   "cell_type": "code",
   "execution_count": 57,
   "metadata": {},
   "outputs": [
    {
     "output_type": "stream",
     "name": "stdout",
     "text": [
      "english\n"
     ]
    }
   ],
   "source": [
    "#3. 用補考後資料找出與國文成績相關係數最高的學科?\n",
    "coeffEC = np.corrcoef(english_score, chinese_score)\n",
    "coeffMC = np.corrcoef(math_score, chinese_score)\n",
    "print('english' if np.all(coeffEC >= coeffMC) else 'math')"
   ]
  },
  {
   "cell_type": "code",
   "execution_count": null,
   "metadata": {},
   "outputs": [],
   "source": []
  }
 ]
}