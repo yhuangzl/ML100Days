{
 "metadata": {
  "language_info": {
   "codemirror_mode": {
    "name": "ipython",
    "version": 3
   },
   "file_extension": ".py",
   "mimetype": "text/x-python",
   "name": "python",
   "nbconvert_exporter": "python",
   "pygments_lexer": "ipython3",
   "version": "3.8.5-final"
  },
  "orig_nbformat": 2,
  "kernelspec": {
   "name": "python3",
   "display_name": "Python 3",
   "language": "python"
  }
 },
 "nbformat": 4,
 "nbformat_minor": 2,
 "cells": [
  {
   "cell_type": "code",
   "execution_count": 1,
   "metadata": {},
   "outputs": [],
   "source": [
    "import pandas as pd"
   ]
  },
  {
   "cell_type": "code",
   "execution_count": 39,
   "metadata": {},
   "outputs": [
    {
     "output_type": "execute_result",
     "data": {
      "text/plain": [
       "      Sex Profession\n",
       "0    male    teacher\n",
       "1    male   engineer\n",
       "2  female       None\n",
       "3  female   engineer"
      ],
      "text/html": "<div>\n<style scoped>\n    .dataframe tbody tr th:only-of-type {\n        vertical-align: middle;\n    }\n\n    .dataframe tbody tr th {\n        vertical-align: top;\n    }\n\n    .dataframe thead th {\n        text-align: right;\n    }\n</style>\n<table border=\"1\" class=\"dataframe\">\n  <thead>\n    <tr style=\"text-align: right;\">\n      <th></th>\n      <th>Sex</th>\n      <th>Profession</th>\n    </tr>\n  </thead>\n  <tbody>\n    <tr>\n      <th>0</th>\n      <td>male</td>\n      <td>teacher</td>\n    </tr>\n    <tr>\n      <th>1</th>\n      <td>male</td>\n      <td>engineer</td>\n    </tr>\n    <tr>\n      <th>2</th>\n      <td>female</td>\n      <td>None</td>\n    </tr>\n    <tr>\n      <th>3</th>\n      <td>female</td>\n      <td>engineer</td>\n    </tr>\n  </tbody>\n</table>\n</div>"
     },
     "metadata": {},
     "execution_count": 39
    }
   ],
   "source": [
    "q_df = pd.DataFrame([['male', 'teacher'], \n",
    "['male', 'engineer'],\n",
    "['female', None],\n",
    "['female', 'engineer']], columns = ['Sex','Profession'])\n",
    "q_df"
   ]
  },
  {
   "cell_type": "code",
   "execution_count": 44,
   "metadata": {},
   "outputs": [
    {
     "output_type": "execute_result",
     "data": {
      "text/plain": [
       "      Sex Profession\n",
       "0    male    teacher\n",
       "1    male   engineer\n",
       "2  female     others\n",
       "3  female   engineer"
      ],
      "text/html": "<div>\n<style scoped>\n    .dataframe tbody tr th:only-of-type {\n        vertical-align: middle;\n    }\n\n    .dataframe tbody tr th {\n        vertical-align: top;\n    }\n\n    .dataframe thead th {\n        text-align: right;\n    }\n</style>\n<table border=\"1\" class=\"dataframe\">\n  <thead>\n    <tr style=\"text-align: right;\">\n      <th></th>\n      <th>Sex</th>\n      <th>Profession</th>\n    </tr>\n  </thead>\n  <tbody>\n    <tr>\n      <th>0</th>\n      <td>male</td>\n      <td>teacher</td>\n    </tr>\n    <tr>\n      <th>1</th>\n      <td>male</td>\n      <td>engineer</td>\n    </tr>\n    <tr>\n      <th>2</th>\n      <td>female</td>\n      <td>others</td>\n    </tr>\n    <tr>\n      <th>3</th>\n      <td>female</td>\n      <td>engineer</td>\n    </tr>\n  </tbody>\n</table>\n</div>"
     },
     "metadata": {},
     "execution_count": 44
    }
   ],
   "source": [
    "#缺失值填入字串'others'\n",
    "q_df.fillna('others', inplace = True)\n",
    "q_df"
   ]
  },
  {
   "cell_type": "code",
   "execution_count": 50,
   "metadata": {},
   "outputs": [],
   "source": [
    "#更進一步將字串做編碼。 此時用什麼方式做編碼比較適合?為什麼?\n",
    "sex_code = pd.get_dummies(q_df['Sex'], prefix= q_df.columns[0])\n",
    "profession_code = pd.get_dummies(q_df['Profession'], prefix= q_df.columns[1])"
   ]
  },
  {
   "cell_type": "code",
   "execution_count": 51,
   "metadata": {},
   "outputs": [
    {
     "output_type": "execute_result",
     "data": {
      "text/plain": [
       "      Sex Profession  Sex_female  Sex_male  Profession_engineer  \\\n",
       "0    male    teacher           0         1                    0   \n",
       "1    male   engineer           0         1                    1   \n",
       "2  female     others           1         0                    0   \n",
       "3  female   engineer           1         0                    1   \n",
       "\n",
       "   Profession_others  Profession_teacher  \n",
       "0                  0                   1  \n",
       "1                  0                   0  \n",
       "2                  1                   0  \n",
       "3                  0                   0  "
      ],
      "text/html": "<div>\n<style scoped>\n    .dataframe tbody tr th:only-of-type {\n        vertical-align: middle;\n    }\n\n    .dataframe tbody tr th {\n        vertical-align: top;\n    }\n\n    .dataframe thead th {\n        text-align: right;\n    }\n</style>\n<table border=\"1\" class=\"dataframe\">\n  <thead>\n    <tr style=\"text-align: right;\">\n      <th></th>\n      <th>Sex</th>\n      <th>Profession</th>\n      <th>Sex_female</th>\n      <th>Sex_male</th>\n      <th>Profession_engineer</th>\n      <th>Profession_others</th>\n      <th>Profession_teacher</th>\n    </tr>\n  </thead>\n  <tbody>\n    <tr>\n      <th>0</th>\n      <td>male</td>\n      <td>teacher</td>\n      <td>0</td>\n      <td>1</td>\n      <td>0</td>\n      <td>0</td>\n      <td>1</td>\n    </tr>\n    <tr>\n      <th>1</th>\n      <td>male</td>\n      <td>engineer</td>\n      <td>0</td>\n      <td>1</td>\n      <td>1</td>\n      <td>0</td>\n      <td>0</td>\n    </tr>\n    <tr>\n      <th>2</th>\n      <td>female</td>\n      <td>others</td>\n      <td>1</td>\n      <td>0</td>\n      <td>0</td>\n      <td>1</td>\n      <td>0</td>\n    </tr>\n    <tr>\n      <th>3</th>\n      <td>female</td>\n      <td>engineer</td>\n      <td>1</td>\n      <td>0</td>\n      <td>1</td>\n      <td>0</td>\n      <td>0</td>\n    </tr>\n  </tbody>\n</table>\n</div>"
     },
     "metadata": {},
     "execution_count": 51
    }
   ],
   "source": [
    "pd.concat([q_df, sex_code, profession_code], axis = 1)"
   ]
  },
  {
   "cell_type": "code",
   "execution_count": null,
   "metadata": {},
   "outputs": [],
   "source": []
  }
 ]
}