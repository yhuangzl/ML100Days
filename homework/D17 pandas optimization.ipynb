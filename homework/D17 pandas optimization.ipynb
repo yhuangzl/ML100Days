{
 "metadata": {
  "language_info": {
   "codemirror_mode": {
    "name": "ipython",
    "version": 3
   },
   "file_extension": ".py",
   "mimetype": "text/x-python",
   "name": "python",
   "nbconvert_exporter": "python",
   "pygments_lexer": "ipython3",
   "version": "3.8.5-final"
  },
  "orig_nbformat": 2,
  "kernelspec": {
   "name": "python3",
   "display_name": "Python 3",
   "language": "python"
  }
 },
 "nbformat": 4,
 "nbformat_minor": 2,
 "cells": [
  {
   "cell_type": "code",
   "execution_count": 1,
   "metadata": {},
   "outputs": [
    {
     "output_type": "execute_result",
     "data": {
      "text/plain": [
       "'\\nQ: 在速度較慢的時候，可以先從哪邊開始檢查？\\nA:  讀取資料型態選最快速的\\n    多使用內建函數\\n    向量化的資料處理\\n'"
      ]
     },
     "metadata": {},
     "execution_count": 1
    }
   ],
   "source": [
    "'''\n",
    "Q: 在速度較慢的時候，可以先從哪邊開始檢查？\n",
    "A:  讀取資料型態選最快速的\n",
    "    多使用內建函數\n",
    "    向量化的資料處理\n",
    "'''"
   ]
  },
  {
   "cell_type": "code",
   "execution_count": 2,
   "metadata": {},
   "outputs": [
    {
     "output_type": "execute_result",
     "data": {
      "text/plain": [
       "'\\nQ: 資料過大時應採取什麼方式讓記憶體占用量下降？\\nA:  欄位的型態降級有助於減少記憶體佔用空間\\n'"
      ]
     },
     "metadata": {},
     "execution_count": 2
    }
   ],
   "source": [
    "'''\n",
    "Q: 資料過大時應採取什麼方式讓記憶體占用量下降？\n",
    "A:  欄位的型態降級有助於減少記憶體佔用空間\n",
    "'''"
   ]
  },
  {
   "cell_type": "code",
   "execution_count": null,
   "metadata": {},
   "outputs": [],
   "source": []
  }
 ]
}