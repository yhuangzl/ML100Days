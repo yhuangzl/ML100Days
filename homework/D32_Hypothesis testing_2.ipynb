{
 "metadata": {
  "language_info": {
   "codemirror_mode": {
    "name": "ipython",
    "version": 3
   },
   "file_extension": ".py",
   "mimetype": "text/x-python",
   "name": "python",
   "nbconvert_exporter": "python",
   "pygments_lexer": "ipython3",
   "version": "3.8.5-final"
  },
  "orig_nbformat": 2,
  "kernelspec": {
   "name": "python3",
   "display_name": "Python 3.8.5 64-bit (conda)",
   "metadata": {
    "interpreter": {
     "hash": "8fac594bfae6525c0c41b4041d2d72effa188cc8ead05f81b1fab2bb098927fb"
    }
   }
  }
 },
 "nbformat": 4,
 "nbformat_minor": 2,
 "cells": [
  {
   "cell_type": "code",
   "execution_count": 1,
   "metadata": {},
   "outputs": [],
   "source": [
    "# Q1: 假設 𝑋 > 2，拒絕 𝐻_0，𝛼 會變大/變小? 𝛽 會變大/變小?"
   ]
  },
  {
   "cell_type": "code",
   "execution_count": 4,
   "metadata": {},
   "outputs": [
    {
     "output_type": "stream",
     "name": "stdout",
     "text": [
      "\nif X > 2 then reject Null hypothesis, the area of rejection region decreases, so alpha decreases and beta increases.\n\n"
     ]
    }
   ],
   "source": [
    "print('''\n",
    "if X > 2 then reject Null hypothesis, the area of rejection region decreases, so alpha decreases and beta increases.\n",
    "''')"
   ]
  },
  {
   "cell_type": "code",
   "execution_count": 2,
   "metadata": {},
   "outputs": [],
   "source": [
    "# Q2: 假設 𝑋 > 0.2，拒絕 𝐻_0，𝛼 會變大/變小? 𝛽 會變大/變小?"
   ]
  },
  {
   "cell_type": "code",
   "execution_count": 5,
   "metadata": {},
   "outputs": [
    {
     "output_type": "stream",
     "name": "stdout",
     "text": [
      "\nif X > 0.2 then reject Null hypothesis, the area of rejection region increases, so alpha increases and beta decreases.\n\n"
     ]
    }
   ],
   "source": [
    "print('''\n",
    "if X > 0.2 then reject Null hypothesis, the area of rejection region increases, so alpha increases and beta decreases.\n",
    "''')"
   ]
  },
  {
   "cell_type": "code",
   "execution_count": 3,
   "metadata": {},
   "outputs": [],
   "source": [
    "# Q3: 𝛼 和 𝛽 有關聯性?"
   ]
  },
  {
   "cell_type": "code",
   "execution_count": 6,
   "metadata": {},
   "outputs": [
    {
     "output_type": "stream",
     "name": "stdout",
     "text": [
      "\nSince H0 and H1 are mutually exclusive, alpha and beta are negatively related.\n\n"
     ]
    }
   ],
   "source": [
    "print('''\n",
    "Since H0 and H1 are mutually exclusive, alpha and beta are negatively related.\n",
    "''')"
   ]
  },
  {
   "cell_type": "code",
   "execution_count": null,
   "metadata": {},
   "outputs": [],
   "source": []
  }
 ]
}