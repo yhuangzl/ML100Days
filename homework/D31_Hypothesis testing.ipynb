{
 "metadata": {
  "language_info": {
   "codemirror_mode": {
    "name": "ipython",
    "version": 3
   },
   "file_extension": ".py",
   "mimetype": "text/x-python",
   "name": "python",
   "nbconvert_exporter": "python",
   "pygments_lexer": "ipython3",
   "version": "3.8.5-final"
  },
  "orig_nbformat": 2,
  "kernelspec": {
   "name": "python3",
   "display_name": "Python 3",
   "language": "python"
  }
 },
 "nbformat": 4,
 "nbformat_minor": 2,
 "cells": [
  {
   "cell_type": "code",
   "execution_count": 3,
   "metadata": {},
   "outputs": [],
   "source": [
    "#Q1: 吃減肥藥能在一個月內瘦超過十公斤，研究人員想推翻第四台廣告業者的說法，請試著寫出 $H_0$ 與 $H_1$"
   ]
  },
  {
   "cell_type": "code",
   "execution_count": 4,
   "metadata": {},
   "outputs": [
    {
     "output_type": "stream",
     "name": "stdout",
     "text": [
      "H0 = 吃減肥藥能在一個月內瘦超過十公斤\nH1 = 吃減肥藥 不 能在一個月內瘦超過十公斤\n"
     ]
    }
   ],
   "source": [
    "print('H0 = 吃減肥藥能在一個月內瘦超過十公斤')\n",
    "print('H1 = 吃減肥藥 不 能在一個月內瘦超過十公斤')"
   ]
  },
  {
   "cell_type": "code",
   "execution_count": 5,
   "metadata": {},
   "outputs": [],
   "source": [
    "#Q2: 一位速食店店長認為其品牌在市場之佔有率至多為12%，於是該店長進行一個市場調查，一共訪問了3000為消費者，其中有311位表示喜歡該品牌，請試著寫出 $H_0$ 與 $H_1$"
   ]
  },
  {
   "cell_type": "code",
   "execution_count": 6,
   "metadata": {},
   "outputs": [
    {
     "output_type": "stream",
     "name": "stdout",
     "text": [
      "H0 = 其品牌在市場之佔有率超過為12% (> 12%)\nH1 = 其品牌在市場之佔有率至多為12% (<= 12%)\n"
     ]
    }
   ],
   "source": [
    "print('H0 = 其品牌在市場之佔有率超過為12% (> 12%)')\n",
    "print('H1 = 其品牌在市場之佔有率至多為12% (<= 12%)')"
   ]
  },
  {
   "cell_type": "code",
   "execution_count": null,
   "metadata": {},
   "outputs": [],
   "source": []
  }
 ]
}